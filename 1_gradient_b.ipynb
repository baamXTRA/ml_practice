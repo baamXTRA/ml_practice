{
 "cells": [
  {
   "cell_type": "markdown",
   "metadata": {},
   "source": [
    "Требуется реализовать класс на языке Python, который соответствует следующему интерфейсу."
   ]
  },
  {
   "cell_type": "code",
   "execution_count": 5,
   "metadata": {},
   "outputs": [],
   "source": [
    "class GradientOptimizer:\n",
    "    def __init__(self, oracle, x0):\n",
    "        self.oracle = oracle\n",
    "        self.x0 = x0\n",
    "\n",
    "    def optimize(self, iterations, eps, alpha):\n",
    "        pass"
   ]
  },
  {
   "cell_type": "markdown",
   "metadata": {},
   "source": [
    "В конструктор принимаются два аргумента — оракул, с помощью которого можно получить градиент оптимизируемой функции, а также точку, с которой необходимо начать градиентный спуск.\n",
    "\n",
    "Метод optimize принимает максимальное число итераций для критерия остановки, L2-норму градиента, которую можно считать оптимальной, а также learning rate. Метод возвращает оптимальную точку.\n",
    "\n",
    "Оракул имеет следующий интерфейс:"
   ]
  },
  {
   "cell_type": "code",
   "execution_count": 6,
   "metadata": {},
   "outputs": [],
   "source": [
    "class Oracle:\n",
    "    def get_func(self, x): pass\n",
    "    def get_grad(self, x): pass"
   ]
  },
  {
   "cell_type": "markdown",
   "metadata": {},
   "source": [
    "\n",
    "x имеет тип np.array вещественных чисел."
   ]
  },
  {
   "cell_type": "code",
   "execution_count": null,
   "metadata": {},
   "outputs": [],
   "source": [
    "import numpy as np"
   ]
  },
  {
   "cell_type": "code",
   "execution_count": 2,
   "metadata": {},
   "outputs": [],
   "source": [
    "class Oracle:\n",
    "    def get_func(self, x):\n",
    "        \"\"\"возвращает значение функции в точке x.\"\"\"\n",
    "        raise NotImplementedError\n",
    "\n",
    "    def get_grad(self, x):\n",
    "        \"\"\"возвращает градиент функции в точке x.\"\"\"\n",
    "        raise NotImplementedError"
   ]
  },
  {
   "cell_type": "code",
   "execution_count": 3,
   "metadata": {},
   "outputs": [],
   "source": [
    "class GradientOptimizer:\n",
    "    def __init__(self, oracle, x0):\n",
    "        \"\"\"\n",
    "        инициализация. х0 - начальная точка, oracle - оракл\n",
    "        \"\"\"\n",
    "\n",
    "        self.oracle = oracle\n",
    "        self.x0 = x0\n",
    " \n",
    "    def optimize(self, iterations, eps, alpha):\n",
    "        \"\"\"\n",
    "        iteration - максимальное количество итераций которое может позволить себе функция\n",
    "        eps - порог остановки\n",
    "        alpha - шаг с которым будет происходить пуск\n",
    "        \"\"\"\n",
    "\n",
    "        x = self.x0.copy()\n",
    "\n",
    "        for _ in range(iterations):\n",
    "            grad = self.oracle.get_grad(x)\n",
    "\n",
    "            # логика остановки при переходе порога\n",
    "            if np.linalg.norm(grad) <= eps:\n",
    "                break\n",
    "\n",
    "            # спуск\n",
    "            x -= alpha * grad\n",
    "\n",
    "        return x"
   ]
  },
  {
   "cell_type": "code",
   "execution_count": 4,
   "metadata": {},
   "outputs": [
    {
     "name": "stdout",
     "output_type": "stream",
     "text": [
      "Оптимальная точка: [1.32619556]\n"
     ]
    }
   ],
   "source": [
    "class QuadraticOracle(Oracle):\n",
    "    def get_func(self, x):\n",
    "        return np.sum(x ** 2)\n",
    "    \n",
    "    def get_grad(self, x):\n",
    "        return 2 * x\n",
    "\n",
    "if __name__ == \"__main__\":\n",
    "    # Пример использования\n",
    "    oracle = QuadraticOracle()\n",
    "    optimizer = GradientOptimizer(oracle, np.array([10.0]))\n",
    "    optimal_point = optimizer.optimize(iterations=100, eps=1e-6, alpha=0.01)\n",
    "    print(\"Оптимальная точка:\", optimal_point)"
   ]
  },
  {
   "cell_type": "code",
   "execution_count": null,
   "metadata": {},
   "outputs": [],
   "source": []
  }
 ],
 "metadata": {
  "kernelspec": {
   "display_name": "Python 3",
   "language": "python",
   "name": "python3"
  },
  "language_info": {
   "codemirror_mode": {
    "name": "ipython",
    "version": 3
   },
   "file_extension": ".py",
   "mimetype": "text/x-python",
   "name": "python",
   "nbconvert_exporter": "python",
   "pygments_lexer": "ipython3",
   "version": "3.12.0"
  }
 },
 "nbformat": 4,
 "nbformat_minor": 2
}
