{
 "cells": [
  {
   "cell_type": "markdown",
   "metadata": {},
   "source": [
    "Требуется реализовать на языке Python класс GDM, который описывает алгоритм градиентного спуска с моментом и имеет следующий интерфейс:"
   ]
  },
  {
   "cell_type": "code",
   "execution_count": 19,
   "metadata": {},
   "outputs": [],
   "source": [
    "\n",
    "import numpy as np\n",
    "\n",
    "class GDM:\n",
    "    '''Represents a Gradient Descent with Momentum optimizer\n",
    "\n",
    "    Fields:\n",
    "        eta: learning rate\n",
    "        alpha: exponential decay factor\n",
    "    '''\n",
    "\n",
    "    eta: float\n",
    "    alpha: float\n",
    "\n",
    "    def __init__(self, *, alpha: float = 0.9, eta: float = 0.1):\n",
    "        '''Initalizes `eta` and `alpha` fields'''\n",
    "        raise NotImplementedError()\n",
    "\n",
    "    def optimize(self, oracle: Oracle, x0: np.ndarray, *,\n",
    "                 max_iter: int = 100, eps: float = 1e-5) -> np.ndarray:\n",
    "        '''Optimizes a function specified as `oracle` starting from point `x0`.\n",
    "        The optimizations stops when `max_iter` iterations were completed or \n",
    "        the L2-norm of the gradient at current point is less than `eps`\n",
    "\n",
    "        Args:\n",
    "            oracle: function to optimize\n",
    "            x0: point to start from\n",
    "            max_iter: maximal number of iterations\n",
    "            eps: threshold for L2-norm of gradient\n",
    "\n",
    "        Returns:\n",
    "            A point at which the optimization stopped\n",
    "        '''\n",
    "        raise NotImplementedError()\n"
   ]
  },
  {
   "cell_type": "markdown",
   "metadata": {},
   "source": [
    "Параметрами алгоритма являются:\n",
    "\n",
    "alpha — скорость затухания момента,\n",
    "eta — learning rate.\n",
    "Параметрами процесса оптимизации являются:\n",
    "oracle — оптимизируемая функция,\n",
    "x0 — начальная точка,\n",
    "max_iter — максимальное количество итераций,\n",
    "eps — пороговое значение L2 нормы градиента.\n",
    "Оптимизация останавливается при достижении max_iter количества итераций или при достижении точки, в которой L2 норма градиента меньше eps.\n",
    "Класс Oracle описывает оптимизируемую функцию:\n",
    "\n"
   ]
  },
  {
   "cell_type": "code",
   "execution_count": 20,
   "metadata": {},
   "outputs": [],
   "source": [
    "import numpy as np\n",
    "\n",
    "class Oracle:\n",
    "    '''Provides an interface for evaluating a function and its derivative at arbitrary point'''\n",
    "    \n",
    "    def value(self, x: np.ndarray) -> float:\n",
    "        '''Evaluates the underlying function at point `x`\n",
    "\n",
    "        Args:\n",
    "            x: a point to evaluate funciton at\n",
    "\n",
    "        Returns:\n",
    "            Function value\n",
    "        '''\n",
    "        raise NotImplementedError()\n",
    "        \n",
    "    def gradient(self, x: np.ndarray) -> np.ndarray:\n",
    "        '''Evaluates the underlying function derivative at point `x`\n",
    "\n",
    "        Args:\n",
    "            x: a point to evaluate derivative at\n",
    "\n",
    "        Returns:\n",
    "            Function derivative\n",
    "        '''\n",
    "        raise NotImplementedError()"
   ]
  },
  {
   "cell_type": "code",
   "execution_count": 21,
   "metadata": {},
   "outputs": [],
   "source": [
    "import numpy as np"
   ]
  },
  {
   "cell_type": "code",
   "execution_count": 22,
   "metadata": {},
   "outputs": [],
   "source": [
    "class Oracle:\n",
    "    def get_func(self, x):\n",
    "        \"\"\"возвращает значение функции в точке x.\"\"\"\n",
    "        raise NotImplementedError\n",
    "\n",
    "    def get_grad(self, x):\n",
    "        \"\"\"возвращает градиент функции в точке x.\"\"\"\n",
    "        raise NotImplementedError"
   ]
  },
  {
   "cell_type": "code",
   "execution_count": 23,
   "metadata": {},
   "outputs": [],
   "source": [
    "class GDM:\n",
    "    '''\n",
    "    Поля:\n",
    "        eta: скорость обучения\n",
    "        alpha: скорость затухания модели\n",
    "    '''\n",
    "    eta: float\n",
    "    alpha: float\n",
    "\n",
    "    def __init__(self, *, alpha: float = 0.9, eta: float = 0.1):\n",
    "        '''инициализация'''\n",
    "        self.alpha = alpha\n",
    "        self.eta = eta\n",
    "\n",
    "    def optimize(\n",
    "        self,\n",
    "        oracle: Oracle,\n",
    "        x0: np.ndarray,\n",
    "        *,\n",
    "        max_iter: int = 100,\n",
    "        eps: float = 1e-5\n",
    "    ) -> np.ndarray:\n",
    "        \"\"\"\n",
    "        Поля:\n",
    "            oracle: оракл\n",
    "            x0: точка старта\n",
    "            max_iter: максимальное количество итераций\n",
    "            eps: граница спуска\n",
    "\n",
    "        Возвращает:\n",
    "            точку х остановки\n",
    "        \"\"\"\n",
    "\n",
    "        x = x0\n",
    "        velocity = np.zeros_like(x0)\n",
    "\n",
    "        for _ in range(max_iter):\n",
    "            grad = oracle.gradient(x)\n",
    "            if np.linalg.norm(grad) < eps:\n",
    "                break\n",
    "\n",
    "            # обновляем момент\n",
    "            velocity = self.alpha * velocity - self.eta * grad\n",
    "            # прибавляем к следующей точке момент\n",
    "            x += velocity\n",
    "\n",
    "        return x"
   ]
  },
  {
   "cell_type": "code",
   "execution_count": 24,
   "metadata": {},
   "outputs": [],
   "source": [
    "class QuadraticOracle(Oracle):\n",
    "    def value(self, x: np.ndarray) -> float:\n",
    "        return np.sum(x ** 2)\n",
    "    \n",
    "    def gradient(self, x: np.ndarray) -> np.ndarray:\n",
    "        return 2 * x"
   ]
  },
  {
   "cell_type": "code",
   "execution_count": 25,
   "metadata": {},
   "outputs": [
    {
     "name": "stdout",
     "output_type": "stream",
     "text": [
      "Оптимальная точка: [0.04228114]\n"
     ]
    }
   ],
   "source": [
    "if __name__ == \"__main__\":\n",
    "    oracle = QuadraticOracle()\n",
    "    x0 = np.array([10.0])\n",
    "    optimizer = GDM(alpha=0.9, eta=0.01)\n",
    "    optimal_point = optimizer.optimize(oracle, x0, max_iter=100, eps=1e-6)\n",
    "    print(\"Оптимальная точка:\", optimal_point)"
   ]
  },
  {
   "cell_type": "code",
   "execution_count": null,
   "metadata": {},
   "outputs": [],
   "source": []
  }
 ],
 "metadata": {
  "kernelspec": {
   "display_name": "Python 3",
   "language": "python",
   "name": "python3"
  },
  "language_info": {
   "codemirror_mode": {
    "name": "ipython",
    "version": 3
   },
   "file_extension": ".py",
   "mimetype": "text/x-python",
   "name": "python",
   "nbconvert_exporter": "python",
   "pygments_lexer": "ipython3",
   "version": "3.12.0"
  }
 },
 "nbformat": 4,
 "nbformat_minor": 2
}
