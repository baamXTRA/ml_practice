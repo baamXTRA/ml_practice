{
 "cells": [
  {
   "cell_type": "code",
   "execution_count": 2,
   "metadata": {},
   "outputs": [],
   "source": [
    "import numpy as np\n",
    "\n",
    "class Oracle:\n",
    "\n",
    "    def value(self, x: np.ndarray) -> float:\n",
    "\n",
    "        raise NotImplementedError()\n",
    "        \n",
    "    def gradient(self, x: np.ndarray) -> np.ndarray:\n",
    "\n",
    "        raise NotImplementedError()"
   ]
  },
  {
   "cell_type": "code",
   "execution_count": 39,
   "metadata": {},
   "outputs": [],
   "source": [
    "import numpy as np\n",
    "\n",
    "class Adam:\n",
    "    '''представляет Adam оптимизацию\n",
    "\n",
    "    Fields:\n",
    "        eta: скорость обучения\n",
    "        beta1: оценка первого момента \n",
    "        beta2: оценка второго момента\n",
    "        epsilon: сглаж. коэф\n",
    "    '''\n",
    "\n",
    "    eta: float\n",
    "    beta1: float\n",
    "    beta2: float\n",
    "    epsilon: float\n",
    "\n",
    "    def __init__(self, *, eta: float = 0.1, beta1: float = 0.9, beta2: float = 0.999, epsilon: float = 1e-8):\n",
    "        '''Инициализация `eta`, `gamma`, and `epsilon` fields'''\n",
    "        self.eta = eta          # Скорость обучения\n",
    "        self.beta1              #  первого момента \n",
    "        self.beta2              # оценка второго момента\n",
    "        self.epsilon = epsilon  # сглаживающий коэф.\n",
    "        self.vector = 0         # сумма корней градиента\n",
    "        self.m = 0          # First moment vector\n",
    "        self.v = 0           # Second moment vector\n",
    "        self.t = 0              # Time step\n",
    "\n",
    "    def optimize(self, oracle: Oracle, x0: np.ndarray, *,\n",
    "                 max_iter: int = 100, eps: float = 1e-5) -> np.ndarray:\n",
    "        '''Оптимизирует функцию со стартовой точки х0.\n",
    "        Оптимизация заканчивается когда мы достигли макс. числа итераций\n",
    "        или если наша точка оказалась ниже порога\n",
    "\n",
    "        Аргументы функции:\n",
    "            oracle: функция которую нужно оптимизировать\n",
    "            x0: стартовая точка спуска\n",
    "            max_iter: максимальное число итераций (ограничение)\n",
    "            eps: граница\n",
    "\n",
    "        Возвращает:\n",
    "            Точку остановки\n",
    "        '''\n",
    "\n",
    "        x = x0\n",
    "        self.vector = np.zeros_like(x0)\n",
    "        self.m = np.zeros_like(x0)\n",
    "        self.v = np.zeros_like(x0)\n",
    "\n",
    "        for _ in range(max_iter):\n",
    "            self.t += 1\n",
    "            gradient = oracle.gradient(x) # вычисление градиента в текущей точке\n",
    "            if np.linalg.norm(gradient) < eps:\n",
    "                # проверка на пересечение порога\n",
    "                break\n",
    "\n",
    "            self.vector = self.gamma * self.vector + (1-self.gamma) * (np.power(gradient,2))  # обновление вектора\n",
    "            \n",
    "            adjusted_grad = (self.eta / (np.sqrt(self.vector + self.epsilon))) * gradient\n",
    "            x -= adjusted_grad\n",
    "        \n",
    "        return x"
   ]
  },
  {
   "cell_type": "code",
   "execution_count": 40,
   "metadata": {},
   "outputs": [
    {
     "name": "stdout",
     "output_type": "stream",
     "text": [
      "Оптимальная точка: [ 8.75865195e-01 -2.37220548e-16]\n"
     ]
    }
   ],
   "source": [
    "# Example usage of Oracle and RMSProp\n",
    "class QuadraticOracle(Oracle):\n",
    "    '''Example quadratic function for optimization'''\n",
    "\n",
    "    def value(self, x: np.ndarray) -> float:\n",
    "        return np.sum(x ** 2)  # Function value f(x) = x^2\n",
    "    \n",
    "    def gradient(self, x: np.ndarray) -> np.ndarray:\n",
    "        return 2 * x  # Gradient f'(x) = 2x\n",
    "\n",
    "\n",
    "# Using RMSProp to optimize a quadratic function\n",
    "oracle = QuadraticOracle()\n",
    "initial_point = np.array([10.0, -5.0])  # Initial point\n",
    "optimizer = RMSProp(eta=0.1)\n",
    "\n",
    "optimal_point = optimizer.optimize(oracle, initial_point)\n",
    "print(\"Оптимальная точка:\", optimal_point)\n"
   ]
  },
  {
   "cell_type": "code",
   "execution_count": null,
   "metadata": {},
   "outputs": [],
   "source": []
  },
  {
   "cell_type": "code",
   "execution_count": null,
   "metadata": {},
   "outputs": [],
   "source": []
  }
 ],
 "metadata": {
  "kernelspec": {
   "display_name": "Python 3",
   "language": "python",
   "name": "python3"
  },
  "language_info": {
   "codemirror_mode": {
    "name": "ipython",
    "version": 3
   },
   "file_extension": ".py",
   "mimetype": "text/x-python",
   "name": "python",
   "nbconvert_exporter": "python",
   "pygments_lexer": "ipython3",
   "version": "3.12.0"
  }
 },
 "nbformat": 4,
 "nbformat_minor": 2
}
