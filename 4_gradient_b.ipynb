{
 "cells": [
  {
   "cell_type": "code",
   "execution_count": 2,
   "metadata": {},
   "outputs": [],
   "source": [
    "import numpy as np\n",
    "\n",
    "class Oracle:\n",
    "    '''Provides an interface for evaluating a function and its derivative at arbitrary point'''\n",
    "    \n",
    "    def value(self, x: np.ndarray) -> float:\n",
    "        '''Evaluates the underlying function at point `x`\n",
    "\n",
    "        Args:\n",
    "            x: a point to evaluate funciton at\n",
    "\n",
    "        Returns:\n",
    "            Function value\n",
    "        '''\n",
    "        raise NotImplementedError()\n",
    "        \n",
    "    def gradient(self, x: np.ndarray) -> np.ndarray:\n",
    "        '''Evaluates the underlying function derivative at point `x`\n",
    "\n",
    "        Args:\n",
    "            x: a point to evaluate derivative at\n",
    "\n",
    "        Returns:\n",
    "            Function derivative\n",
    "        '''\n",
    "        raise NotImplementedError()"
   ]
  },
  {
   "cell_type": "code",
   "execution_count": 41,
   "metadata": {},
   "outputs": [],
   "source": [
    "import numpy as np\n",
    "\n",
    "class AdaGrad:\n",
    "    '''Класс для реализации адаптивного градиентного спуска\n",
    "\n",
    "    Значения:\n",
    "        eta: скорость обучения\n",
    "        epsilon: сглаживающий коэффициент\n",
    "    '''\n",
    "\n",
    "    eta: float\n",
    "    epsilon: float\n",
    "\n",
    "    def __init__(self, *, eta: float = 0.1, epsilon: float = 1e-8):\n",
    "\n",
    "        self.eta = eta\n",
    "        self.epsilon = epsilon\n",
    "        self.vector = 0 # вектор накопленных градиентов\n",
    "\n",
    "    def optimize(self, oracle: Oracle, x0: np.ndarray, *,\n",
    "                 max_iter: int = 100, eps: float = 1e-5) -> np.ndarray:\n",
    "        '''Оптимизирует функцию со стартовой точки х0.\n",
    "        Оптимизация заканчивается когда мы достигли макс. числа итераций\n",
    "        или если наша точка оказалась ниже порога\n",
    "\n",
    "        Аргументы функции:\n",
    "            oracle: функция которую нужно оптимизировать\n",
    "            x0: стартовая точка спуска\n",
    "            max_iter: максимальное число итераций (ограничение)\n",
    "            eps: граница\n",
    "\n",
    "        Возвращает:\n",
    "            Точку остановки\n",
    "        '''\n",
    "\n",
    "        x = x0\n",
    "        self.vector = np.zeros_like(x0)\n",
    "\n",
    "        for _ in range(max_iter):\n",
    "            gradient = oracle.gradient(x) # вычисление градиента в текущей точке\n",
    "            if np.linalg.norm(gradient) < eps:\n",
    "                # проверка на пересечение порога\n",
    "                break\n",
    "            self.vector += np.power(gradient, 2)\n",
    "            a = (self.eta / (np.sqrt(self.vector + self.epsilon))) * gradient\n",
    "            x -= a\n",
    "        \n",
    "        return x"
   ]
  },
  {
   "cell_type": "code",
   "execution_count": 42,
   "metadata": {},
   "outputs": [
    {
     "name": "stdout",
     "output_type": "stream",
     "text": [
      "Оптимальная точка: [ 8.2083308  -3.28320738]\n"
     ]
    }
   ],
   "source": [
    "# Example usage of Oracle and RMSProp\n",
    "class QuadraticOracle(Oracle):\n",
    "    '''Example quadratic function for optimization'''\n",
    "\n",
    "    def value(self, x: np.ndarray) -> float:\n",
    "        return np.sum(x ** 2)  # Function value f(x) = x^2\n",
    "    \n",
    "    def gradient(self, x: np.ndarray) -> np.ndarray:\n",
    "        return 2 * x  # Gradient f'(x) = 2x\n",
    "\n",
    "\n",
    "# Using RMSProp to optimize a quadratic function\n",
    "oracle = QuadraticOracle()\n",
    "initial_point = np.array([10.0, -5.0])  # Initial point\n",
    "optimizer = AdaGrad(eta=0.1)\n",
    "\n",
    "optimal_point = optimizer.optimize(oracle, initial_point)\n",
    "print(\"Оптимальная точка:\", optimal_point)\n"
   ]
  },
  {
   "cell_type": "code",
   "execution_count": null,
   "metadata": {},
   "outputs": [],
   "source": []
  },
  {
   "cell_type": "code",
   "execution_count": null,
   "metadata": {},
   "outputs": [],
   "source": []
  }
 ],
 "metadata": {
  "kernelspec": {
   "display_name": "Python 3",
   "language": "python",
   "name": "python3"
  },
  "language_info": {
   "codemirror_mode": {
    "name": "ipython",
    "version": 3
   },
   "file_extension": ".py",
   "mimetype": "text/x-python",
   "name": "python",
   "nbconvert_exporter": "python",
   "pygments_lexer": "ipython3",
   "version": "3.12.0"
  }
 },
 "nbformat": 4,
 "nbformat_minor": 2
}
